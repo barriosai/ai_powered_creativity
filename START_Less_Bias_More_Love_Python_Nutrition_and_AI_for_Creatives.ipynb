{
  "cells": [
    {
      "cell_type": "markdown",
      "id": "251dfe81",
      "metadata": {
        "id": "251dfe81"
      },
      "source": [
        "# ⚖️ Less Bias, More Love ❤️\n",
        "## Python for Data Analytics: Nutrition and AI for Creatives\n",
        "\n",
        "Welcome to the ***Less Bias, More Love*** mini course on Python, data analytics, and creativy through health data! This notebook is designed to teach you Python fundamentals, using nutrition and health data to explore how your habits impact creativity and learning.\n",
        "\n",
        "By the end of this mini-course, you'll be equipped with basic Python skills to analyze health data, make informed decisions about nutrition, and build a solid foundation in data analytics—a crucial step for diving into AI.\n",
        "\n",
        "---"
      ]
    },
    {
      "cell_type": "markdown",
      "id": "df0bdeea",
      "metadata": {
        "id": "df0bdeea"
      },
      "source": [
        "### 1. Basic Math Operations with Calorie Data"
      ]
    },
    {
      "cell_type": "code",
      "execution_count": null,
      "id": "6da85a43",
      "metadata": {
        "id": "6da85a43"
      },
      "outputs": [],
      "source": [
        "# Define variables for calories in each meal (breakfast, lunch, dinner, and snack)\n",
        "# Example: breakfast_calories = 300\n",
        "\n",
        "# Calculate the total calories by adding up the meal calories\n",
        "\n",
        "# Print the total calories for the day\n",
        "\n",
        "# Calculate the average calories per meal\n",
        "\n",
        "# Print the average calories per meal"
      ]
    },
    {
      "cell_type": "markdown",
      "id": "356be138",
      "metadata": {
        "id": "356be138"
      },
      "source": [
        "### 2. Working with Text (Strings) for Health Data"
      ]
    },
    {
      "cell_type": "code",
      "execution_count": null,
      "id": "8ae2e867",
      "metadata": {
        "id": "8ae2e867"
      },
      "outputs": [],
      "source": [
        "# Define a variable 'note' with a message about healthy eating\n",
        "\n",
        "# Print the doctor's note\n",
        "\n",
        "# Check the length of the note\n",
        "\n",
        "# Extract a key phrase from the note\n",
        "\n",
        "# Replace 'spinach' with another vegetable in the note"
      ]
    },
    {
      "cell_type": "markdown",
      "id": "5af0adca",
      "metadata": {
        "id": "5af0adca"
      },
      "source": [
        "### 3. Lists - Tracking Daily Meals"
      ]
    },
    {
      "cell_type": "code",
      "execution_count": null,
      "id": "a9d3add2",
      "metadata": {
        "id": "a9d3add2"
      },
      "outputs": [],
      "source": [
        "# Create a list called 'meals' with strings describing each meal and its calorie count\n",
        "\n",
        "# Print the list of meals\n",
        "\n",
        "# Add another snack to the list\n",
        "\n",
        "# Print the updated list of meals\n",
        "\n",
        "# Remove one item from the list (e.g., a snack)\n",
        "\n",
        "# Print the list after removing an item"
      ]
    },
    {
      "cell_type": "markdown",
      "id": "c3966693",
      "metadata": {
        "id": "c3966693"
      },
      "source": [
        "### 4. Dictionaries - Storing Nutrition Information"
      ]
    },
    {
      "cell_type": "code",
      "execution_count": null,
      "id": "0034f141",
      "metadata": {
        "id": "0034f141"
      },
      "outputs": [],
      "source": [
        "# Create a dictionary called 'food_calories' with food items as keys and their calorie values as values\n",
        "\n",
        "# Print the calories for a specific food item, like an apple\n",
        "\n",
        "# Add a new food item and its calories to the dictionary\n",
        "\n",
        "# Print the updated dictionary\n",
        "\n",
        "# Remove an item from the dictionary (e.g., 'spinach')\n",
        "\n",
        "# Print the dictionary after removing an item"
      ]
    },
    {
      "cell_type": "markdown",
      "id": "49a80c02",
      "metadata": {
        "id": "49a80c02"
      },
      "source": [
        "### 5. Conditional Statements for Health Analysis"
      ]
    },
    {
      "cell_type": "code",
      "execution_count": null,
      "id": "7a96d9f5",
      "metadata": {
        "id": "7a96d9f5"
      },
      "outputs": [],
      "source": [
        "# Define a variable 'cups_of_water' with the number of cups of water you've had today\n",
        "\n",
        "# Use an if-else statement to check if you've met your hydration goal (8 cups)\n",
        "\n",
        "# Define a variable 'target_calories' for your daily calorie target\n",
        "\n",
        "# Use if-elif-else statements to check if you're under, at, or over your calorie target"
      ]
    },
    {
      "cell_type": "markdown",
      "id": "72e86edd",
      "metadata": {
        "id": "72e86edd"
      },
      "source": [
        "### 6. Loops - Calculating Total Calories from a List"
      ]
    },
    {
      "cell_type": "code",
      "execution_count": null,
      "id": "40e4b237",
      "metadata": {
        "id": "40e4b237"
      },
      "outputs": [],
      "source": [
        "# Create a list called 'calories_per_meal' with calorie values for each meal\n",
        "\n",
        "# Use a for loop to calculate the total calories for the day\n",
        "\n",
        "# Print the total calories\n",
        "\n",
        "# Set a hydration goal with 'water_goal' and initialize a counter 'cups_drank'\n",
        "\n",
        "# Use a while loop to simulate drinking water until you reach the goal, printing each cup drank"
      ]
    },
    {
      "cell_type": "markdown",
      "id": "3d36d1ae",
      "metadata": {
        "id": "3d36d1ae"
      },
      "source": [
        "### 7. Functions - Creating a Health Score Function"
      ]
    },
    {
      "cell_type": "code",
      "execution_count": null,
      "id": "aa350e19",
      "metadata": {
        "id": "aa350e19"
      },
      "outputs": [],
      "source": [
        "# Define a function 'calculate_health_score' that takes water, sleep, and calorie intake as parameters\n",
        "\n",
        "# Inside the function, set up a scoring system for water, sleep, and calories (e.g., 1 if goal met, 0.5 if not)\n",
        "\n",
        "# Calculate the health score as an average of the three scores, then multiply by 100\n",
        "\n",
        "# Return the health score\n",
        "\n",
        "# Test the function by calling it with sample values and printing the result"
      ]
    },
    {
      "cell_type": "markdown",
      "id": "b13baa40",
      "metadata": {
        "id": "b13baa40"
      },
      "source": [
        "### 8. Working with Health Data Using Pandas"
      ]
    },
    {
      "cell_type": "code",
      "execution_count": null,
      "id": "18845755",
      "metadata": {
        "id": "18845755"
      },
      "outputs": [],
      "source": [
        "# Import the Pandas library\n",
        "\n",
        "# Load health data from a CSV file with the URL\n",
        "url = 'https://raw.githubusercontent.com/barriosai/ai_powered_health/refs/heads/main/DATASET_Three_Months_User_Health_and_Hydration.csv'\n",
        "\n",
        "# Use Pandas to read the CSV file into a DataFrame called 'df'\n",
        "\n",
        "# Print the first few rows of the DataFrame to inspect the data\n",
        "\n",
        "# Create a new column 'Water Intake (cups)' based on 'P Times'\n",
        "\n",
        "# Calculate a 'Health Score' column using a similar formula as the function, based on hydration and sleep\n",
        "\n",
        "# Print the first few rows of 'Date' and 'Health Score' to check the results"
      ]
    },
    {
      "cell_type": "markdown",
      "id": "4d44123a",
      "metadata": {
        "id": "4d44123a"
      },
      "source": [
        "## Crash Course on Data Visualization with Health Data"
      ]
    },
    {
      "cell_type": "markdown",
      "id": "d4523c48",
      "metadata": {
        "id": "d4523c48"
      },
      "source": [
        "### 9.1 Line Plot of Health Score Over Time"
      ]
    },
    {
      "cell_type": "code",
      "execution_count": null,
      "id": "1febf92d",
      "metadata": {
        "id": "1febf92d"
      },
      "outputs": [],
      "source": [
        "# Import the Matplotlib library for plotting\n",
        "\n",
        "# Create a line plot for 'Health Score' over 'Date'\n",
        "\n",
        "# Add labels for the x-axis ('Date') and y-axis ('Health Score')\n",
        "\n",
        "# Add a title 'Health Score Over Time'\n",
        "\n",
        "# Rotate x-axis labels if needed for better readability"
      ]
    },
    {
      "cell_type": "markdown",
      "id": "f02fb066",
      "metadata": {
        "id": "f02fb066"
      },
      "source": [
        "### 9.2 Bar Plot: Average Health Score by Day of the Week"
      ]
    },
    {
      "cell_type": "code",
      "execution_count": null,
      "id": "25e6a686",
      "metadata": {
        "id": "25e6a686"
      },
      "outputs": [],
      "source": [
        "# Convert the 'Date' column to a datetime format\n",
        "\n",
        "# Create a new column 'Day of Week' based on 'Date'\n",
        "\n",
        "# Group by 'Day of Week' and calculate the average health score\n",
        "\n",
        "# Plot the average health score by day of the week as a bar plot"
      ]
    },
    {
      "cell_type": "markdown",
      "id": "748c6671",
      "metadata": {
        "id": "748c6671"
      },
      "source": [
        "### 9.3 Scatter Plot: Health Score vs Water Intake"
      ]
    },
    {
      "cell_type": "code",
      "execution_count": null,
      "id": "e415c118",
      "metadata": {
        "id": "e415c118"
      },
      "outputs": [],
      "source": [
        "# Create a scatter plot with 'Water Intake (cups)' on the x-axis and 'Health Score' on the y-axis\n",
        "\n",
        "# Add labels for both axes and a title 'Health Score vs Water Intake'"
      ]
    },
    {
      "cell_type": "markdown",
      "id": "0bd375a5",
      "metadata": {
        "id": "0bd375a5"
      },
      "source": [
        "### 9.4 Scatter Plot: Health Score vs Sleep Score"
      ]
    },
    {
      "cell_type": "code",
      "execution_count": null,
      "id": "677a6a62",
      "metadata": {
        "id": "677a6a62"
      },
      "outputs": [],
      "source": [
        "# Create a scatter plot with 'Sleep Score' on the x-axis and 'Health Score' on the y-axis\n",
        "\n",
        "# Add labels for both axes and a title 'Health Score vs Sleep Score'"
      ]
    }
  ],
  "metadata": {
    "colab": {
      "provenance": []
    }
  },
  "nbformat": 4,
  "nbformat_minor": 5
}